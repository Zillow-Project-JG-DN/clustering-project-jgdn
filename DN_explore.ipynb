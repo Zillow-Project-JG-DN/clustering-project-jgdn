{
 "cells": [
  {
   "cell_type": "code",
   "execution_count": 1,
   "id": "ebed224c",
   "metadata": {},
   "outputs": [],
   "source": [
    "import pandas as pd\n",
    "import numpy as np\n",
    "import os\n",
    "import matplotlib.pyplot as plt\n",
    "import seaborn as sns\n",
    "from env import host, user, password\n",
    "from sklearn.model_selection import train_test_split\n",
    "import sklearn.preprocessing\n",
    "\n",
    "from sklearn.model_selection import train_test_split\n",
    "from sklearn.preprocessing import MinMaxScaler\n",
    "from sklearn.cluster import KMeans\n",
    "from sklearn.preprocessing import MinMaxScaler, RobustScaler\n",
    "from sklearn.model_selection import train_test_split\n",
    "import warnings\n",
    "warnings.filterwarnings('ignore')\n",
    "\n",
    "from scipy import stats\n",
    "from math import sqrt\n",
    "from statsmodels.formula.api import ols\n",
    "\n",
    "from sklearn.metrics import mean_squared_error, r2_score, explained_variance_score, mean_absolute_error\n",
    "import sklearn.preprocessing\n",
    "from sklearn.linear_model import LinearRegression\n",
    "from sklearn.feature_selection import f_regression \n",
    "\n",
    "\n",
    "import wrangle3\n",
    "import explore"
   ]
  },
  {
   "cell_type": "code",
   "execution_count": null,
   "id": "03fc00f5",
   "metadata": {},
   "outputs": [],
   "source": [
    "train, X_train, y_train, X_validate, y_validate, X_test, y_test=wrangle3.wrangle()\n"
   ]
  },
  {
   "cell_type": "code",
   "execution_count": null,
   "id": "c792d8ac",
   "metadata": {},
   "outputs": [],
   "source": [
    "explore.age_corr()"
   ]
  },
  {
   "cell_type": "code",
   "execution_count": 2,
   "id": "86e1c84c",
   "metadata": {},
   "outputs": [
    {
     "name": "stdout",
     "output_type": "stream",
     "text": [
      " The correlation between the taxvaluedollarcnt of a home and the the logerror: -0.00\n",
      " The P value between the taxvaluedollarcnt of a home and the logerror:  0.43\n",
      " \n",
      "Fail to reject the null hypothesis.\n"
     ]
    },
    {
     "data": {
      "image/png": "[encoded data removed]",
      "text/plain": [
       "<Figure size 432x288 with 1 Axes>"
      ]
     },
     "metadata": {
      "needs_background": "light"
     },
     "output_type": "display_data"
    }
   ],
   "source": [
    "explore.taxvaluedollarcnt_corr()"
   ]
  },
  {
   "cell_type": "code",
   "execution_count": null,
   "id": "cb688d72",
   "metadata": {},
   "outputs": [],
   "source": [
    "X_train['taxvaluedollarcnt']"
   ]
  },
  {
   "cell_type": "markdown",
   "id": "eb325b5d",
   "metadata": {},
   "source": [
    "# Cluster 1: Area"
   ]
  },
  {
   "cell_type": "code",
   "execution_count": null,
   "id": "f44ef0e0",
   "metadata": {},
   "outputs": [],
   "source": [
    "# Our first cluster - Area\n",
    "cluster_vars = ['scaled_latitude', 'scaled_longitude', 'age_bin']\n",
    "cluster_name = 'area_cluster'\n",
    "k_range = range(2,20)\n",
    "explore.find_k(X_train, cluster_vars, k_range)"
   ]
  },
  {
   "cell_type": "code",
   "execution_count": null,
   "id": "25216862",
   "metadata": {},
   "outputs": [],
   "source": [
    "# talk to Jared about mapping area on google maps API"
   ]
  },
  {
   "cell_type": "code",
   "execution_count": null,
   "id": "7e821fbd",
   "metadata": {},
   "outputs": [],
   "source": []
  },
  {
   "cell_type": "markdown",
   "id": "fc439b33",
   "metadata": {},
   "source": [
    "# Cluster 2 : Size"
   ]
  },
  {
   "cell_type": "code",
   "execution_count": null,
   "id": "cad4873c",
   "metadata": {},
   "outputs": [],
   "source": [
    "# 2nd cluster - Size\n",
    "cluster_vars = ['scaled_bathroomcnt', 'sqft_bin', 'acres_bin', 'bath_bed_ratio']\n",
    "cluster_name = 'size_cluster'\n",
    "#k_range = range(2,20)\n",
    "\n",
    "explore. find_k(X_train, cluster_vars, k_range)"
   ]
  },
  {
   "cell_type": "code",
   "execution_count": null,
   "id": "2b3815c3",
   "metadata": {},
   "outputs": [],
   "source": [
    "explore.plot_size_clusters()"
   ]
  },
  {
   "cell_type": "code",
   "execution_count": null,
   "id": "7ba92cd3",
   "metadata": {
    "scrolled": false
   },
   "outputs": [],
   "source": [
    "sns.relplot(data=X_train, x='longitude', y='latitude', hue='size_cluster', alpha =0.2);"
   ]
  },
  {
   "cell_type": "markdown",
   "id": "1e79a128",
   "metadata": {},
   "source": [
    "# Cluster 3: Price"
   ]
  },
  {
   "cell_type": "code",
   "execution_count": null,
   "id": "2030ac90",
   "metadata": {
    "scrolled": true
   },
   "outputs": [],
   "source": [
    "#3rd cluster - Price\n",
    "cluster_vars = ['taxrate', 'structure_dollar_sqft_bin', 'lot_dollar_sqft_bin']\n",
    "cluster_name = 'price_cluster'\n",
    "\n",
    "explore.find_k(X_train, cluster_vars, k_range)"
   ]
  },
  {
   "cell_type": "code",
   "execution_count": null,
   "id": "4793cc88",
   "metadata": {
    "scrolled": false
   },
   "outputs": [],
   "source": [
    "explore.plot_prices_clusters()"
   ]
  },
  {
   "cell_type": "code",
   "execution_count": null,
   "id": "b5b00f56",
   "metadata": {},
   "outputs": [],
   "source": [
    "sns.relplot(data=X_train, x='longitude', y='latitude', hue='price_cluster', alpha =0.2);"
   ]
  },
  {
   "cell_type": "code",
   "execution_count": null,
   "id": "c9fd7f51",
   "metadata": {},
   "outputs": [],
   "source": [
    "sns.relplot(data=X_train, x='longitude', y='latitude', hue='logerror_bins', col='size_cluster', col_wrap=2);"
   ]
  },
  {
   "cell_type": "code",
   "execution_count": null,
   "id": "dfb8bf61",
   "metadata": {},
   "outputs": [],
   "source": [
    "def find_k(X_train, cluster_vars, k_range):\n",
    "    #enter clusters/features, cluster_name, & range    \n",
    "    sse = []\n",
    "    for k in k_range:\n",
    "        kmeans = KMeans(n_clusters=k)\n",
    "\n",
    "        # X[0] is our X_train dataframe..the first dataframe in the list of dataframes stored in X. \n",
    "        kmeans.fit(X_train[cluster_vars])\n",
    "\n",
    "        # inertia: Sum of squared distances of samples to their closest cluster center.\n",
    "        sse.append(kmeans.inertia_) \n",
    "\n",
    "    # compute the difference from one k to the next\n",
    "    delta = [round(sse[i] - sse[i+1],0) for i in range(len(sse)-1)]\n",
    "\n",
    "    # compute the percent difference from one k to the next\n",
    "    pct_delta = [round(((sse[i] - sse[i+1])/sse[i])*100, 1) for i in range(len(sse)-1)]\n",
    "\n",
    "    # create a dataframe with all of our metrics to compare them across values of k: SSE, delta, pct_delta\n",
    "    k_comparisons_df = pd.DataFrame(dict(k=k_range[0:-1], \n",
    "                             sse=sse[0:-1], \n",
    "                             delta=delta, \n",
    "                             pct_delta=pct_delta))\n",
    "\n",
    "    # plot k with inertia\n",
    "    plt.plot(k_comparisons_df.k, k_comparisons_df.sse, 'bx-')\n",
    "    plt.xlabel('k')\n",
    "    plt.ylabel('SSE')\n",
    "    plt.title('The Elbow Method to find the optimal k\\nFor which k values do we see large decreases in SSE?')\n",
    "    plt.show()\n",
    "\n",
    "    # plot k with pct_delta\n",
    "    plt.plot(k_comparisons_df.k, k_comparisons_df.pct_delta, 'bx-')\n",
    "    plt.xlabel('k')\n",
    "    plt.ylabel('Percent Change')\n",
    "    plt.title('For which k values are we seeing increased changes (%) in SSE?')\n",
    "    plt.show()\n",
    "\n",
    "    # plot k with delta\n",
    "    plt.plot(k_comparisons_df.k, k_comparisons_df.delta, 'bx-')\n",
    "    plt.xlabel('k')\n",
    "    plt.ylabel('Absolute Change in SSE')\n",
    "    plt.title('For which k values are we seeing increased changes (absolute) in SSE?')\n",
    "    plt.show()\n",
    "\n",
    "    return k_comparisons_df"
   ]
  },
  {
   "cell_type": "code",
   "execution_count": null,
   "id": "cae80768",
   "metadata": {},
   "outputs": [],
   "source": [
    "# Our first cluster - Area\n",
    "cluster_vars = ['scaled_latitude', 'scaled_longitude', 'age_bin']\n",
    "cluster_name = 'area_cluster'\n",
    "k_range = range(2,20)\n",
    "find_k(X_train, cluster_vars, k_range)"
   ]
  },
  {
   "cell_type": "code",
   "execution_count": null,
   "id": "694760d2",
   "metadata": {},
   "outputs": [],
   "source": [
    "# 2nd cluster - Size\n",
    "cluster_vars = ['scaled_bathroomcnt', 'sqft_bin', 'acres_bin', 'bath_bed_ratio']\n",
    "cluster_name = 'size_cluster'\n",
    "#k_range = range(2,20)\n",
    "\n",
    "find_k(X_train, cluster_vars, k_range)"
   ]
  },
  {
   "cell_type": "code",
   "execution_count": null,
   "id": "e677ffcc",
   "metadata": {},
   "outputs": [],
   "source": [
    "\n",
    "#Plot size clusters\n",
    "fig, axes = plt.subplots(4,2, sharex=False, figsize=(20, 25))\n",
    "fig.suptitle('Home prices by Price Cluster')\n",
    "#axes[0].set_title('All clusters together')\n",
    "#axes[1].set_title('Cluster a')\n",
    "#axes[2].set_title('Cluster b')\n",
    "#axes[3].set_title('Cluster c')\n",
    "#axes[4].set_title('Cluster d')\n",
    "#axes[5].set_title('Cluster e')\n",
    "sns.histplot(data=s0, x='calculatedfinishedsquarefeet', alpha=0.5, color='red', ax=axes[0,0])\n",
    "sns.histplot(data=s1, x='calculatedfinishedsquarefeet', alpha=0.5, color='orange', ax=axes[0,0])\n",
    "sns.histplot(data=s2, x='calculatedfinishedsquarefeet', alpha=0.5, color='yellow', ax=axes[0,0])\n",
    "sns.histplot(data=s3, x='calculatedfinishedsquarefeet', alpha=0.5, color='green', ax=axes[0,0])\n",
    "sns.histplot(data=s4, x='calculatedfinishedsquarefeet', alpha=0.5, color='blue', ax=axes[0,0])\n",
    "sns.histplot(data=s5, x='calculatedfinishedsquarefeet', alpha=0.5, color='purple', ax=axes[0,0])\n",
    "sns.histplot(data=s6, x='calculatedfinishedsquarefeet', alpha=0.5, color='pink', ax=axes[0,0])\n",
    "axes[0,0].ticklabel_format(style='plain')\n",
    "axes[0,0].set_title('Size clusters superimposed')\n",
    "axes[0,1].ticklabel_format(style='plain')\n",
    "axes[0,1].set_title('Cluster a')\n",
    "\n",
    "axes[1,0].ticklabel_format(style='plain')\n",
    "axes[1,0].set_title('Cluster b')\n",
    "axes[1,1].ticklabel_format(style='plain')\n",
    "axes[1,1].set_title('Cluster c')\n",
    "axes[2,0].ticklabel_format(style='plain')\n",
    "axes[2,0].set_title('Cluster d')\n",
    "axes[3,0].ticklabel_format(style='plain')\n",
    "axes[3,0].set_title('Cluster e')\n",
    "axes[3,1].ticklabel_format(style='plain')\n",
    "axes[3,1].set_title('Cluster f')\n",
    "\n",
    "sns.histplot(data=s0, x='calculatedfinishedsquarefeet', alpha=0.5, color='red', ax=axes[0,1])\n",
    "sns.histplot(data=s1, x='calculatedfinishedsquarefeet', alpha=0.5, color='orange', ax=axes[1,0])\n",
    "sns.histplot(data=s2, x='calculatedfinishedsquarefeet', alpha=0.5, color='yellow', ax=axes[1,1])\n",
    "sns.histplot(data=s3, x='calculatedfinishedsquarefeet', alpha=0.5, color='green', ax=axes[2,0])\n",
    "sns.histplot(data=s4, x='calculatedfinishedsquarefeet', alpha=0.5, color='blue', ax=axes[2,1])\n",
    "sns.histplot(data=s5, x='calculatedfinishedsquarefeet', alpha=0.5, color='purple', ax=axes[3,0])\n",
    "sns.histplot(data=s6, x='calculatedfinishedsquarefeet', alpha=0.5, color='pink', ax=axes[3,1])\n",
    "\n",
    "plt.ticklabel_format(style='plain')\n",
    "\n",
    "plt.show()"
   ]
  },
  {
   "cell_type": "code",
   "execution_count": null,
   "id": "909b4f08",
   "metadata": {},
   "outputs": [],
   "source": [
    "#3rd cluster - Price\n",
    "cluster_vars = ['taxrate', 'structure_dollar_sqft_bin', 'lot_dollar_sqft_bin']\n",
    "cluster_name = 'price_cluster'\n",
    "k_range = range(2,20)\n",
    "\n",
    "find_k(X_train, cluster_vars, k_range)"
   ]
  },
  {
   "cell_type": "code",
   "execution_count": null,
   "id": "37cfe755",
   "metadata": {},
   "outputs": [],
   "source": [
    "sns.relplot(data=X_train, x='longitude', y='latitude', hue='age', col='price_cluster', col_wrap=2);\n"
   ]
  },
  {
   "cell_type": "code",
   "execution_count": null,
   "id": "575cd733",
   "metadata": {},
   "outputs": [],
   "source": [
    "X_train['price_cluster'].value_counts()"
   ]
  },
  {
   "cell_type": "code",
   "execution_count": null,
   "id": "e6f59b45",
   "metadata": {},
   "outputs": [],
   "source": [
    "#using all three moving forward so just implement the function"
   ]
  },
  {
   "cell_type": "code",
   "execution_count": null,
   "id": "58b2eb49",
   "metadata": {},
   "outputs": [],
   "source": [
    "train['logerror']"
   ]
  }
 ],
 "metadata": {
  "kernelspec": {
   "display_name": "Python 3.8.8 64-bit ('base': conda)",
   "language": "python",
   "name": "python388jvsc74a57bd0c55a83bd58af29d57d9497daca71e182d6c86780dbc0ee59c5af391ec33a93b7"
  },
  "language_info": {
   "codemirror_mode": {
    "name": "ipython",
    "version": 3
   },
   "file_extension": ".py",
   "mimetype": "text/x-python",
   "name": "python",
   "nbconvert_exporter": "python",
   "pygments_lexer": "ipython3",
   "version": "3.8.8"
  }
 },
 "nbformat": 4,
 "nbformat_minor": 5
}
