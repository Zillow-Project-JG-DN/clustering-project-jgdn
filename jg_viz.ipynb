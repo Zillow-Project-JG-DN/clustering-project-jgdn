{
 "cells": [
  {
   "cell_type": "code",
   "execution_count": 1,
   "id": "b70faf44",
   "metadata": {},
   "outputs": [],
   "source": [
    "\n",
    "import numpy as np\n",
    "import pandas as pd\n",
    "import matplotlib.pyplot as plt\n",
    "import seaborn as sns\n",
    "\n",
    "import env\n",
    "\n",
    "\n",
    "from sklearn.model_selection import train_test_split\n",
    "from sklearn.preprocessing import MinMaxScaler\n",
    "\n",
    "import wrangle2\n",
    "import wrangle3"
   ]
  },
  {
   "cell_type": "code",
   "execution_count": 2,
   "id": "f261d832",
   "metadata": {},
   "outputs": [],
   "source": [
    "train, X_train, y_train, X_validate, y_validate, X_test, y_test=wrangle3.wrangle()"
   ]
  },
  {
   "cell_type": "code",
   "execution_count": 3,
   "id": "6137a2fd",
   "metadata": {},
   "outputs": [
    {
     "data": {
      "text/html": [
       "<div><div id=66483f97-d1ca-45ec-83f5-2c11071ffb3c style=\"display:none; background-color:#9D6CFF; color:white; width:200px; height:30px; padding-left:5px; border-radius:4px; flex-direction:row; justify-content:space-around; align-items:center;\" onmouseover=\"this.style.backgroundColor='#BA9BF8'\" onmouseout=\"this.style.backgroundColor='#9D6CFF'\" onclick=\"window.commands?.execute('create-mitosheet-from-dataframe-output');\">See Full Dataframe in Mito</div> <script> if (window.commands.hasCommand('create-mitosheet-from-dataframe-output')) document.getElementById('66483f97-d1ca-45ec-83f5-2c11071ffb3c').style.display = 'flex' </script> <table border=\"1\" class=\"dataframe\">\n",
       "  <thead>\n",
       "    <tr style=\"text-align: right;\">\n",
       "      <th></th>\n",
       "      <th>Unnamed: 0</th>\n",
       "      <th>parcelid</th>\n",
       "      <th>bathroomcnt</th>\n",
       "      <th>bedroomcnt</th>\n",
       "      <th>calculatedfinishedsquarefeet</th>\n",
       "      <th>fips</th>\n",
       "      <th>latitude</th>\n",
       "      <th>longitude</th>\n",
       "      <th>lotsizesquarefeet</th>\n",
       "      <th>regionidcity</th>\n",
       "      <th>...</th>\n",
       "      <th>scaled_latitude</th>\n",
       "      <th>scaled_longitude</th>\n",
       "      <th>scaled_bathroomcnt</th>\n",
       "      <th>scaled_taxrate</th>\n",
       "      <th>scaled_bedroomcnt</th>\n",
       "      <th>scaled_lotsizesquarefeet</th>\n",
       "      <th>scaled_age</th>\n",
       "      <th>scaled_acres</th>\n",
       "      <th>scaled_bath_bed_ratio</th>\n",
       "      <th>scaled_calculatedfinishedsquarefeet</th>\n",
       "    </tr>\n",
       "  </thead>\n",
       "  <tbody>\n",
       "    <tr>\n",
       "      <th>21580</th>\n",
       "      <td>21580</td>\n",
       "      <td>11204960</td>\n",
       "      <td>3.0</td>\n",
       "      <td>4.0</td>\n",
       "      <td>2000.0</td>\n",
       "      <td>6037.0</td>\n",
       "      <td>34561695.0</td>\n",
       "      <td>-118082751.0</td>\n",
       "      <td>6999.0</td>\n",
       "      <td>40227.0</td>\n",
       "      <td>...</td>\n",
       "      <td>0.829634</td>\n",
       "      <td>0.731775</td>\n",
       "      <td>0.333333</td>\n",
       "      <td>0.203380</td>\n",
       "      <td>0.500000</td>\n",
       "      <td>0.008825</td>\n",
       "      <td>0.213235</td>\n",
       "      <td>0.008825</td>\n",
       "      <td>0.196429</td>\n",
       "      <td>0.172850</td>\n",
       "    </tr>\n",
       "    <tr>\n",
       "      <th>32781</th>\n",
       "      <td>32781</td>\n",
       "      <td>14323862</td>\n",
       "      <td>6.0</td>\n",
       "      <td>6.0</td>\n",
       "      <td>7393.0</td>\n",
       "      <td>6059.0</td>\n",
       "      <td>33601524.0</td>\n",
       "      <td>-117845231.0</td>\n",
       "      <td>24000.0</td>\n",
       "      <td>40009.0</td>\n",
       "      <td>...</td>\n",
       "      <td>0.177142</td>\n",
       "      <td>0.856593</td>\n",
       "      <td>0.833333</td>\n",
       "      <td>0.123723</td>\n",
       "      <td>0.833333</td>\n",
       "      <td>0.031010</td>\n",
       "      <td>0.154412</td>\n",
       "      <td>0.031010</td>\n",
       "      <td>0.285714</td>\n",
       "      <td>0.741252</td>\n",
       "    </tr>\n",
       "    <tr>\n",
       "      <th>33161</th>\n",
       "      <td>33161</td>\n",
       "      <td>12205584</td>\n",
       "      <td>2.0</td>\n",
       "      <td>3.0</td>\n",
       "      <td>1778.0</td>\n",
       "      <td>6037.0</td>\n",
       "      <td>33966002.0</td>\n",
       "      <td>-118298627.0</td>\n",
       "      <td>4948.0</td>\n",
       "      <td>12447.0</td>\n",
       "      <td>...</td>\n",
       "      <td>0.424826</td>\n",
       "      <td>0.618331</td>\n",
       "      <td>0.166667</td>\n",
       "      <td>0.124023</td>\n",
       "      <td>0.333333</td>\n",
       "      <td>0.006149</td>\n",
       "      <td>0.588235</td>\n",
       "      <td>0.006149</td>\n",
       "      <td>0.166667</td>\n",
       "      <td>0.149452</td>\n",
       "    </tr>\n",
       "    <tr>\n",
       "      <th>45785</th>\n",
       "      <td>45785</td>\n",
       "      <td>12078527</td>\n",
       "      <td>3.0</td>\n",
       "      <td>4.0</td>\n",
       "      <td>2777.0</td>\n",
       "      <td>6037.0</td>\n",
       "      <td>34166013.0</td>\n",
       "      <td>-118218530.0</td>\n",
       "      <td>9989.0</td>\n",
       "      <td>45457.0</td>\n",
       "      <td>...</td>\n",
       "      <td>0.560745</td>\n",
       "      <td>0.660422</td>\n",
       "      <td>0.333333</td>\n",
       "      <td>0.111039</td>\n",
       "      <td>0.500000</td>\n",
       "      <td>0.012727</td>\n",
       "      <td>0.191176</td>\n",
       "      <td>0.012727</td>\n",
       "      <td>0.196429</td>\n",
       "      <td>0.254743</td>\n",
       "    </tr>\n",
       "    <tr>\n",
       "      <th>45820</th>\n",
       "      <td>45820</td>\n",
       "      <td>14266520</td>\n",
       "      <td>3.0</td>\n",
       "      <td>4.0</td>\n",
       "      <td>1939.0</td>\n",
       "      <td>6059.0</td>\n",
       "      <td>33706702.0</td>\n",
       "      <td>-117898677.0</td>\n",
       "      <td>6028.0</td>\n",
       "      <td>47568.0</td>\n",
       "      <td>...</td>\n",
       "      <td>0.248617</td>\n",
       "      <td>0.828507</td>\n",
       "      <td>0.333333</td>\n",
       "      <td>0.121312</td>\n",
       "      <td>0.500000</td>\n",
       "      <td>0.007558</td>\n",
       "      <td>0.330882</td>\n",
       "      <td>0.007558</td>\n",
       "      <td>0.196429</td>\n",
       "      <td>0.166421</td>\n",
       "    </tr>\n",
       "  </tbody>\n",
       "</table></div>"
      ],
      "text/plain": [
       "       Unnamed: 0  parcelid  bathroomcnt  bedroomcnt  \\\n",
       "21580       21580  11204960          3.0         4.0   \n",
       "32781       32781  14323862          6.0         6.0   \n",
       "33161       33161  12205584          2.0         3.0   \n",
       "45785       45785  12078527          3.0         4.0   \n",
       "45820       45820  14266520          3.0         4.0   \n",
       "\n",
       "       calculatedfinishedsquarefeet    fips    latitude    longitude  \\\n",
       "21580                        2000.0  6037.0  34561695.0 -118082751.0   \n",
       "32781                        7393.0  6059.0  33601524.0 -117845231.0   \n",
       "33161                        1778.0  6037.0  33966002.0 -118298627.0   \n",
       "45785                        2777.0  6037.0  34166013.0 -118218530.0   \n",
       "45820                        1939.0  6059.0  33706702.0 -117898677.0   \n",
       "\n",
       "       lotsizesquarefeet  regionidcity  ...  scaled_latitude  \\\n",
       "21580             6999.0       40227.0  ...         0.829634   \n",
       "32781            24000.0       40009.0  ...         0.177142   \n",
       "33161             4948.0       12447.0  ...         0.424826   \n",
       "45785             9989.0       45457.0  ...         0.560745   \n",
       "45820             6028.0       47568.0  ...         0.248617   \n",
       "\n",
       "       scaled_longitude  scaled_bathroomcnt  scaled_taxrate  \\\n",
       "21580          0.731775            0.333333        0.203380   \n",
       "32781          0.856593            0.833333        0.123723   \n",
       "33161          0.618331            0.166667        0.124023   \n",
       "45785          0.660422            0.333333        0.111039   \n",
       "45820          0.828507            0.333333        0.121312   \n",
       "\n",
       "       scaled_bedroomcnt  scaled_lotsizesquarefeet  scaled_age scaled_acres  \\\n",
       "21580           0.500000                  0.008825    0.213235     0.008825   \n",
       "32781           0.833333                  0.031010    0.154412     0.031010   \n",
       "33161           0.333333                  0.006149    0.588235     0.006149   \n",
       "45785           0.500000                  0.012727    0.191176     0.012727   \n",
       "45820           0.500000                  0.007558    0.330882     0.007558   \n",
       "\n",
       "       scaled_bath_bed_ratio  scaled_calculatedfinishedsquarefeet  \n",
       "21580               0.196429                             0.172850  \n",
       "32781               0.285714                             0.741252  \n",
       "33161               0.166667                             0.149452  \n",
       "45785               0.196429                             0.254743  \n",
       "45820               0.196429                             0.166421  \n",
       "\n",
       "[5 rows x 42 columns]"
      ]
     },
     "execution_count": 3,
     "metadata": {},
     "output_type": "execute_result"
    }
   ],
   "source": [
    "X_train.head()"
   ]
  },
  {
   "cell_type": "code",
   "execution_count": 4,
   "id": "38890e38",
   "metadata": {},
   "outputs": [
    {
     "data": {
      "text/plain": [
       "(36384, 42)"
      ]
     },
     "execution_count": 4,
     "metadata": {},
     "output_type": "execute_result"
    }
   ],
   "source": [
    "X_train.shape"
   ]
  },
  {
   "cell_type": "code",
   "execution_count": null,
   "id": "f24aa9db",
   "metadata": {},
   "outputs": [],
   "source": [
    "X_train.county.value_counts()"
   ]
  },
  {
   "cell_type": "code",
   "execution_count": null,
   "id": "6024f8c4",
   "metadata": {},
   "outputs": [],
   "source": [
    "X_train.sample(50)"
   ]
  },
  {
   "cell_type": "code",
   "execution_count": null,
   "id": "b72c017c",
   "metadata": {},
   "outputs": [],
   "source": [
    "df = X_train"
   ]
  },
  {
   "cell_type": "code",
   "execution_count": null,
   "id": "e90b8fb8",
   "metadata": {},
   "outputs": [],
   "source": [
    "# Viz distributions after outliers removed\n",
    "\n",
    "for col in df.columns:\n",
    "    sns.boxplot(df[col])\n",
    "    plt.title(col)\n",
    "    plt.show()"
   ]
  },
  {
   "cell_type": "markdown",
   "id": "644c623c",
   "metadata": {},
   "source": [
    "## Clustering"
   ]
  },
  {
   "cell_type": "code",
   "execution_count": null,
   "id": "c7af6bf2",
   "metadata": {},
   "outputs": [],
   "source": [
    "pd.set_option(\"display.max_columns\", None)\n",
    "pd.set_option(\"display.max_rows\", None)\n"
   ]
  },
  {
   "cell_type": "code",
   "execution_count": null,
   "id": "e8e61931",
   "metadata": {},
   "outputs": [],
   "source": [
    "train.head()"
   ]
  },
  {
   "cell_type": "code",
   "execution_count": null,
   "id": "32dcae3f",
   "metadata": {},
   "outputs": [],
   "source": [
    "X_train.head()"
   ]
  },
  {
   "cell_type": "code",
   "execution_count": null,
   "id": "0db51e21",
   "metadata": {},
   "outputs": [],
   "source": [
    "X_train.dtypes"
   ]
  },
  {
   "cell_type": "code",
   "execution_count": null,
   "id": "34476f62",
   "metadata": {},
   "outputs": [],
   "source": []
  }
 ],
 "metadata": {
  "kernelspec": {
   "display_name": "Python 3 (ipykernel)",
   "language": "python",
   "name": "python3"
  },
  "language_info": {
   "codemirror_mode": {
    "name": "ipython",
    "version": 3
   },
   "file_extension": ".py",
   "mimetype": "text/x-python",
   "name": "python",
   "nbconvert_exporter": "python",
   "pygments_lexer": "ipython3",
   "version": "3.8.12"
  }
 },
 "nbformat": 4,
 "nbformat_minor": 5
}
