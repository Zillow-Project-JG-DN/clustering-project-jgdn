{
 "cells": [
  {
   "cell_type": "code",
   "execution_count": 1,
   "metadata": {},
   "outputs": [],
   "source": [
    "\n",
    "import numpy as np\n",
    "import pandas as pd\n",
    "import matplotlib.pyplot as plt\n",
    "import seaborn as sns\n",
    "\n",
    "import env\n",
    "\n",
    "\n",
    "from sklearn.model_selection import train_test_split\n",
    "from sklearn.preprocessing import MinMaxScaler\n",
    "from sklearn.cluster import KMeans\n",
    "from sklearn.preprocessing import MinMaxScaler, RobustScaler\n",
    "from sklearn.model_selection import train_test_split\n",
    "import warnings\n",
    "warnings.filterwarnings('ignore')\n",
    "\n",
    "import wrangle3\n",
    "\n",
    "pd.set_option(\"display.max_columns\", None)\n",
    "pd.set_option(\"display.max_rows\", 100)"
   ]
  },
  {
   "cell_type": "code",
   "execution_count": 2,
   "metadata": {},
   "outputs": [],
   "source": [
    "train, X_train, y_train, X_validate, y_validate, X_test, y_test=wrangle3.wrangle()\n"
   ]
  },
  {
   "cell_type": "code",
   "execution_count": 4,
   "metadata": {},
   "outputs": [
    {
     "data": {
      "text/plain": [
       "(36384, 63)"
      ]
     },
     "execution_count": 4,
     "metadata": {},
     "output_type": "execute_result"
    }
   ],
   "source": [
    "X_train.shape"
   ]
  },
  {
   "cell_type": "code",
   "execution_count": 3,
   "metadata": {},
   "outputs": [
    {
     "data": {
      "text/html": [
       "<div><div id=5baa1da6-8c2e-4cdd-9321-eda05031ea6c style=\"display:none; background-color:#9D6CFF; color:white; width:200px; height:30px; padding-left:5px; border-radius:4px; flex-direction:row; justify-content:space-around; align-items:center;\" onmouseover=\"this.style.backgroundColor='#BA9BF8'\" onmouseout=\"this.style.backgroundColor='#9D6CFF'\" onclick=\"window.commands?.execute('create-mitosheet-from-dataframe-output');\">See Full Dataframe in Mito</div> <script> if (window.commands.hasCommand('create-mitosheet-from-dataframe-output')) document.getElementById('5baa1da6-8c2e-4cdd-9321-eda05031ea6c').style.display = 'flex' </script> <table border=\"1\" class=\"dataframe\">\n",
       "  <thead>\n",
       "    <tr style=\"text-align: right;\">\n",
       "      <th></th>\n",
       "      <th>Unnamed: 0</th>\n",
       "      <th>parcelid</th>\n",
       "      <th>bathroomcnt</th>\n",
       "      <th>bedroomcnt</th>\n",
       "      <th>calculatedfinishedsquarefeet</th>\n",
       "      <th>fips</th>\n",
       "      <th>latitude</th>\n",
       "      <th>longitude</th>\n",
       "      <th>lotsizesquarefeet</th>\n",
       "      <th>regionidcity</th>\n",
       "      <th>regionidcounty</th>\n",
       "      <th>regionidzip</th>\n",
       "      <th>yearbuilt</th>\n",
       "      <th>structuretaxvaluedollarcnt</th>\n",
       "      <th>taxvaluedollarcnt</th>\n",
       "      <th>landtaxvaluedollarcnt</th>\n",
       "      <th>taxamount</th>\n",
       "      <th>county</th>\n",
       "      <th>age</th>\n",
       "      <th>age_bin</th>\n",
       "      <th>taxrate</th>\n",
       "      <th>acres</th>\n",
       "      <th>acres_bin</th>\n",
       "      <th>sqft_bin</th>\n",
       "      <th>structure_dollar_per_sqft</th>\n",
       "      <th>structure_dollar_sqft_bin</th>\n",
       "      <th>land_dollar_per_sqft</th>\n",
       "      <th>lot_dollar_sqft_bin</th>\n",
       "      <th>bath_bed_ratio</th>\n",
       "      <th>cola</th>\n",
       "      <th>logerror_bins</th>\n",
       "      <th>baseline</th>\n",
       "      <th>scaled_latitude</th>\n",
       "      <th>scaled_longitude</th>\n",
       "      <th>scaled_bathroomcnt</th>\n",
       "      <th>scaled_taxrate</th>\n",
       "      <th>scaled_bedroomcnt</th>\n",
       "      <th>scaled_lotsizesquarefeet</th>\n",
       "      <th>scaled_age</th>\n",
       "      <th>scaled_acres</th>\n",
       "      <th>scaled_bath_bed_ratio</th>\n",
       "      <th>scaled_calculatedfinishedsquarefeet</th>\n",
       "      <th>area_cluster</th>\n",
       "      <th>size_cluster</th>\n",
       "      <th>price_cluster</th>\n",
       "      <th>area_cluster_la_newer</th>\n",
       "      <th>area_cluster_la_older</th>\n",
       "      <th>area_cluster_northwest_costal</th>\n",
       "      <th>area_cluster_palmdale_landcaster</th>\n",
       "      <th>area_cluster_santa_clarita</th>\n",
       "      <th>area_cluster_se_coast</th>\n",
       "      <th>size_cluster_a</th>\n",
       "      <th>size_cluster_b</th>\n",
       "      <th>size_cluster_c</th>\n",
       "      <th>size_cluster_d</th>\n",
       "      <th>size_cluster_e</th>\n",
       "      <th>size_cluster_f</th>\n",
       "      <th>size_cluster_g</th>\n",
       "      <th>price_cluster_a</th>\n",
       "      <th>price_cluster_b</th>\n",
       "      <th>price_cluster_c</th>\n",
       "      <th>price_cluster_d</th>\n",
       "      <th>price_cluster_e</th>\n",
       "    </tr>\n",
       "  </thead>\n",
       "  <tbody>\n",
       "    <tr>\n",
       "      <th>21580</th>\n",
       "      <td>21580</td>\n",
       "      <td>11204960</td>\n",
       "      <td>3.0</td>\n",
       "      <td>4.0</td>\n",
       "      <td>2000.0</td>\n",
       "      <td>6037.0</td>\n",
       "      <td>34.561695</td>\n",
       "      <td>-118.082751</td>\n",
       "      <td>6999.0</td>\n",
       "      <td>40227.0</td>\n",
       "      <td>3101.0</td>\n",
       "      <td>97328.0</td>\n",
       "      <td>1987.0</td>\n",
       "      <td>104877.0</td>\n",
       "      <td>131090.0</td>\n",
       "      <td>26213.0</td>\n",
       "      <td>2623.93</td>\n",
       "      <td>Los_Angeles</td>\n",
       "      <td>30.0</td>\n",
       "      <td>0.200</td>\n",
       "      <td>2.001625</td>\n",
       "      <td>0.160675</td>\n",
       "      <td>0.2</td>\n",
       "      <td>0.4</td>\n",
       "      <td>52.438500</td>\n",
       "      <td>0.2</td>\n",
       "      <td>3.745249</td>\n",
       "      <td>0.1</td>\n",
       "      <td>0.750000</td>\n",
       "      <td>0</td>\n",
       "      <td>(-0.05, 0.05]</td>\n",
       "      <td>0.017913</td>\n",
       "      <td>0.829634</td>\n",
       "      <td>0.731775</td>\n",
       "      <td>0.333333</td>\n",
       "      <td>0.203380</td>\n",
       "      <td>0.500000</td>\n",
       "      <td>0.008825</td>\n",
       "      <td>0.213235</td>\n",
       "      <td>0.008825</td>\n",
       "      <td>0.196429</td>\n",
       "      <td>0.172850</td>\n",
       "      <td>palmdale_landcaster</td>\n",
       "      <td>f</td>\n",
       "      <td>c</td>\n",
       "      <td>0</td>\n",
       "      <td>0</td>\n",
       "      <td>0</td>\n",
       "      <td>1</td>\n",
       "      <td>0</td>\n",
       "      <td>0</td>\n",
       "      <td>0</td>\n",
       "      <td>0</td>\n",
       "      <td>0</td>\n",
       "      <td>0</td>\n",
       "      <td>0</td>\n",
       "      <td>1</td>\n",
       "      <td>0</td>\n",
       "      <td>0</td>\n",
       "      <td>0</td>\n",
       "      <td>1</td>\n",
       "      <td>0</td>\n",
       "      <td>0</td>\n",
       "    </tr>\n",
       "    <tr>\n",
       "      <th>32781</th>\n",
       "      <td>32781</td>\n",
       "      <td>14323862</td>\n",
       "      <td>6.0</td>\n",
       "      <td>6.0</td>\n",
       "      <td>7393.0</td>\n",
       "      <td>6059.0</td>\n",
       "      <td>33.601524</td>\n",
       "      <td>-117.845231</td>\n",
       "      <td>24000.0</td>\n",
       "      <td>40009.0</td>\n",
       "      <td>1286.0</td>\n",
       "      <td>96975.0</td>\n",
       "      <td>1995.0</td>\n",
       "      <td>1556016.0</td>\n",
       "      <td>2449943.0</td>\n",
       "      <td>893927.0</td>\n",
       "      <td>29921.84</td>\n",
       "      <td>Orange</td>\n",
       "      <td>22.0</td>\n",
       "      <td>0.200</td>\n",
       "      <td>1.221328</td>\n",
       "      <td>0.550964</td>\n",
       "      <td>0.4</td>\n",
       "      <td>0.9</td>\n",
       "      <td>210.471527</td>\n",
       "      <td>0.6</td>\n",
       "      <td>37.246958</td>\n",
       "      <td>0.3</td>\n",
       "      <td>1.000000</td>\n",
       "      <td>0</td>\n",
       "      <td>(0.05, 0.2]</td>\n",
       "      <td>0.017913</td>\n",
       "      <td>0.177142</td>\n",
       "      <td>0.856593</td>\n",
       "      <td>0.833333</td>\n",
       "      <td>0.123723</td>\n",
       "      <td>0.833333</td>\n",
       "      <td>0.031010</td>\n",
       "      <td>0.154412</td>\n",
       "      <td>0.031010</td>\n",
       "      <td>0.285714</td>\n",
       "      <td>0.741252</td>\n",
       "      <td>se_coast</td>\n",
       "      <td>d</td>\n",
       "      <td>a</td>\n",
       "      <td>0</td>\n",
       "      <td>0</td>\n",
       "      <td>0</td>\n",
       "      <td>0</td>\n",
       "      <td>0</td>\n",
       "      <td>1</td>\n",
       "      <td>0</td>\n",
       "      <td>0</td>\n",
       "      <td>0</td>\n",
       "      <td>1</td>\n",
       "      <td>0</td>\n",
       "      <td>0</td>\n",
       "      <td>0</td>\n",
       "      <td>1</td>\n",
       "      <td>0</td>\n",
       "      <td>0</td>\n",
       "      <td>0</td>\n",
       "      <td>0</td>\n",
       "    </tr>\n",
       "    <tr>\n",
       "      <th>33161</th>\n",
       "      <td>33161</td>\n",
       "      <td>12205584</td>\n",
       "      <td>2.0</td>\n",
       "      <td>3.0</td>\n",
       "      <td>1778.0</td>\n",
       "      <td>6037.0</td>\n",
       "      <td>33.966002</td>\n",
       "      <td>-118.298627</td>\n",
       "      <td>4948.0</td>\n",
       "      <td>12447.0</td>\n",
       "      <td>3101.0</td>\n",
       "      <td>96025.0</td>\n",
       "      <td>1936.0</td>\n",
       "      <td>87000.0</td>\n",
       "      <td>347000.0</td>\n",
       "      <td>260000.0</td>\n",
       "      <td>4248.21</td>\n",
       "      <td>Los_Angeles</td>\n",
       "      <td>81.0</td>\n",
       "      <td>0.600</td>\n",
       "      <td>1.224268</td>\n",
       "      <td>0.113590</td>\n",
       "      <td>0.1</td>\n",
       "      <td>0.4</td>\n",
       "      <td>48.931384</td>\n",
       "      <td>0.1</td>\n",
       "      <td>52.546483</td>\n",
       "      <td>0.4</td>\n",
       "      <td>0.666667</td>\n",
       "      <td>1</td>\n",
       "      <td>(-0.05, 0.05]</td>\n",
       "      <td>0.017913</td>\n",
       "      <td>0.424826</td>\n",
       "      <td>0.618331</td>\n",
       "      <td>0.166667</td>\n",
       "      <td>0.124023</td>\n",
       "      <td>0.333333</td>\n",
       "      <td>0.006149</td>\n",
       "      <td>0.588235</td>\n",
       "      <td>0.006149</td>\n",
       "      <td>0.166667</td>\n",
       "      <td>0.149452</td>\n",
       "      <td>la_older</td>\n",
       "      <td>b</td>\n",
       "      <td>d</td>\n",
       "      <td>0</td>\n",
       "      <td>1</td>\n",
       "      <td>0</td>\n",
       "      <td>0</td>\n",
       "      <td>0</td>\n",
       "      <td>0</td>\n",
       "      <td>0</td>\n",
       "      <td>1</td>\n",
       "      <td>0</td>\n",
       "      <td>0</td>\n",
       "      <td>0</td>\n",
       "      <td>0</td>\n",
       "      <td>0</td>\n",
       "      <td>0</td>\n",
       "      <td>0</td>\n",
       "      <td>0</td>\n",
       "      <td>1</td>\n",
       "      <td>0</td>\n",
       "    </tr>\n",
       "    <tr>\n",
       "      <th>45785</th>\n",
       "      <td>45785</td>\n",
       "      <td>12078527</td>\n",
       "      <td>3.0</td>\n",
       "      <td>4.0</td>\n",
       "      <td>2777.0</td>\n",
       "      <td>6037.0</td>\n",
       "      <td>34.166013</td>\n",
       "      <td>-118.218530</td>\n",
       "      <td>9989.0</td>\n",
       "      <td>45457.0</td>\n",
       "      <td>3101.0</td>\n",
       "      <td>96327.0</td>\n",
       "      <td>1990.0</td>\n",
       "      <td>322342.0</td>\n",
       "      <td>875355.0</td>\n",
       "      <td>553013.0</td>\n",
       "      <td>9603.39</td>\n",
       "      <td>Los_Angeles</td>\n",
       "      <td>27.0</td>\n",
       "      <td>0.200</td>\n",
       "      <td>1.097085</td>\n",
       "      <td>0.229316</td>\n",
       "      <td>0.2</td>\n",
       "      <td>0.6</td>\n",
       "      <td>116.075621</td>\n",
       "      <td>0.4</td>\n",
       "      <td>55.362198</td>\n",
       "      <td>0.4</td>\n",
       "      <td>0.750000</td>\n",
       "      <td>0</td>\n",
       "      <td>(0.05, 0.2]</td>\n",
       "      <td>0.017913</td>\n",
       "      <td>0.560745</td>\n",
       "      <td>0.660422</td>\n",
       "      <td>0.333333</td>\n",
       "      <td>0.111039</td>\n",
       "      <td>0.500000</td>\n",
       "      <td>0.012727</td>\n",
       "      <td>0.191176</td>\n",
       "      <td>0.012727</td>\n",
       "      <td>0.196429</td>\n",
       "      <td>0.254743</td>\n",
       "      <td>santa_clarita</td>\n",
       "      <td>f</td>\n",
       "      <td>a</td>\n",
       "      <td>0</td>\n",
       "      <td>0</td>\n",
       "      <td>0</td>\n",
       "      <td>0</td>\n",
       "      <td>1</td>\n",
       "      <td>0</td>\n",
       "      <td>0</td>\n",
       "      <td>0</td>\n",
       "      <td>0</td>\n",
       "      <td>0</td>\n",
       "      <td>0</td>\n",
       "      <td>1</td>\n",
       "      <td>0</td>\n",
       "      <td>1</td>\n",
       "      <td>0</td>\n",
       "      <td>0</td>\n",
       "      <td>0</td>\n",
       "      <td>0</td>\n",
       "    </tr>\n",
       "    <tr>\n",
       "      <th>45820</th>\n",
       "      <td>45820</td>\n",
       "      <td>14266520</td>\n",
       "      <td>3.0</td>\n",
       "      <td>4.0</td>\n",
       "      <td>1939.0</td>\n",
       "      <td>6059.0</td>\n",
       "      <td>33.706702</td>\n",
       "      <td>-117.898677</td>\n",
       "      <td>6028.0</td>\n",
       "      <td>47568.0</td>\n",
       "      <td>1286.0</td>\n",
       "      <td>97004.0</td>\n",
       "      <td>1971.0</td>\n",
       "      <td>139321.0</td>\n",
       "      <td>327623.0</td>\n",
       "      <td>188302.0</td>\n",
       "      <td>3923.98</td>\n",
       "      <td>Orange</td>\n",
       "      <td>46.0</td>\n",
       "      <td>0.333</td>\n",
       "      <td>1.197712</td>\n",
       "      <td>0.138384</td>\n",
       "      <td>0.1</td>\n",
       "      <td>0.4</td>\n",
       "      <td>71.851986</td>\n",
       "      <td>0.2</td>\n",
       "      <td>31.237890</td>\n",
       "      <td>0.3</td>\n",
       "      <td>0.750000</td>\n",
       "      <td>0</td>\n",
       "      <td>(-0.05, 0.05]</td>\n",
       "      <td>0.017913</td>\n",
       "      <td>0.248617</td>\n",
       "      <td>0.828507</td>\n",
       "      <td>0.333333</td>\n",
       "      <td>0.121312</td>\n",
       "      <td>0.500000</td>\n",
       "      <td>0.007558</td>\n",
       "      <td>0.330882</td>\n",
       "      <td>0.007558</td>\n",
       "      <td>0.196429</td>\n",
       "      <td>0.166421</td>\n",
       "      <td>se_coast</td>\n",
       "      <td>f</td>\n",
       "      <td>d</td>\n",
       "      <td>0</td>\n",
       "      <td>0</td>\n",
       "      <td>0</td>\n",
       "      <td>0</td>\n",
       "      <td>0</td>\n",
       "      <td>1</td>\n",
       "      <td>0</td>\n",
       "      <td>0</td>\n",
       "      <td>0</td>\n",
       "      <td>0</td>\n",
       "      <td>0</td>\n",
       "      <td>1</td>\n",
       "      <td>0</td>\n",
       "      <td>0</td>\n",
       "      <td>0</td>\n",
       "      <td>0</td>\n",
       "      <td>1</td>\n",
       "      <td>0</td>\n",
       "    </tr>\n",
       "  </tbody>\n",
       "</table></div>"
      ],
      "text/plain": [
       "       Unnamed: 0  parcelid  bathroomcnt  bedroomcnt  \\\n",
       "21580       21580  11204960          3.0         4.0   \n",
       "32781       32781  14323862          6.0         6.0   \n",
       "33161       33161  12205584          2.0         3.0   \n",
       "45785       45785  12078527          3.0         4.0   \n",
       "45820       45820  14266520          3.0         4.0   \n",
       "\n",
       "       calculatedfinishedsquarefeet    fips   latitude   longitude  \\\n",
       "21580                        2000.0  6037.0  34.561695 -118.082751   \n",
       "32781                        7393.0  6059.0  33.601524 -117.845231   \n",
       "33161                        1778.0  6037.0  33.966002 -118.298627   \n",
       "45785                        2777.0  6037.0  34.166013 -118.218530   \n",
       "45820                        1939.0  6059.0  33.706702 -117.898677   \n",
       "\n",
       "       lotsizesquarefeet  regionidcity  regionidcounty  regionidzip  \\\n",
       "21580             6999.0       40227.0          3101.0      97328.0   \n",
       "32781            24000.0       40009.0          1286.0      96975.0   \n",
       "33161             4948.0       12447.0          3101.0      96025.0   \n",
       "45785             9989.0       45457.0          3101.0      96327.0   \n",
       "45820             6028.0       47568.0          1286.0      97004.0   \n",
       "\n",
       "       yearbuilt  structuretaxvaluedollarcnt  taxvaluedollarcnt  \\\n",
       "21580     1987.0                    104877.0           131090.0   \n",
       "32781     1995.0                   1556016.0          2449943.0   \n",
       "33161     1936.0                     87000.0           347000.0   \n",
       "45785     1990.0                    322342.0           875355.0   \n",
       "45820     1971.0                    139321.0           327623.0   \n",
       "\n",
       "       landtaxvaluedollarcnt  taxamount       county   age  age_bin   taxrate  \\\n",
       "21580                26213.0    2623.93  Los_Angeles  30.0    0.200  2.001625   \n",
       "32781               893927.0   29921.84       Orange  22.0    0.200  1.221328   \n",
       "33161               260000.0    4248.21  Los_Angeles  81.0    0.600  1.224268   \n",
       "45785               553013.0    9603.39  Los_Angeles  27.0    0.200  1.097085   \n",
       "45820               188302.0    3923.98       Orange  46.0    0.333  1.197712   \n",
       "\n",
       "          acres  acres_bin  sqft_bin  structure_dollar_per_sqft  \\\n",
       "21580  0.160675        0.2       0.4                  52.438500   \n",
       "32781  0.550964        0.4       0.9                 210.471527   \n",
       "33161  0.113590        0.1       0.4                  48.931384   \n",
       "45785  0.229316        0.2       0.6                 116.075621   \n",
       "45820  0.138384        0.1       0.4                  71.851986   \n",
       "\n",
       "       structure_dollar_sqft_bin  land_dollar_per_sqft  lot_dollar_sqft_bin  \\\n",
       "21580                        0.2              3.745249                  0.1   \n",
       "32781                        0.6             37.246958                  0.3   \n",
       "33161                        0.1             52.546483                  0.4   \n",
       "45785                        0.4             55.362198                  0.4   \n",
       "45820                        0.2             31.237890                  0.3   \n",
       "\n",
       "       bath_bed_ratio  cola  logerror_bins  baseline  scaled_latitude  \\\n",
       "21580        0.750000     0  (-0.05, 0.05]  0.017913         0.829634   \n",
       "32781        1.000000     0    (0.05, 0.2]  0.017913         0.177142   \n",
       "33161        0.666667     1  (-0.05, 0.05]  0.017913         0.424826   \n",
       "45785        0.750000     0    (0.05, 0.2]  0.017913         0.560745   \n",
       "45820        0.750000     0  (-0.05, 0.05]  0.017913         0.248617   \n",
       "\n",
       "       scaled_longitude  scaled_bathroomcnt  scaled_taxrate  \\\n",
       "21580          0.731775            0.333333        0.203380   \n",
       "32781          0.856593            0.833333        0.123723   \n",
       "33161          0.618331            0.166667        0.124023   \n",
       "45785          0.660422            0.333333        0.111039   \n",
       "45820          0.828507            0.333333        0.121312   \n",
       "\n",
       "       scaled_bedroomcnt  scaled_lotsizesquarefeet  scaled_age  scaled_acres  \\\n",
       "21580           0.500000                  0.008825    0.213235      0.008825   \n",
       "32781           0.833333                  0.031010    0.154412      0.031010   \n",
       "33161           0.333333                  0.006149    0.588235      0.006149   \n",
       "45785           0.500000                  0.012727    0.191176      0.012727   \n",
       "45820           0.500000                  0.007558    0.330882      0.007558   \n",
       "\n",
       "       scaled_bath_bed_ratio  scaled_calculatedfinishedsquarefeet  \\\n",
       "21580               0.196429                             0.172850   \n",
       "32781               0.285714                             0.741252   \n",
       "33161               0.166667                             0.149452   \n",
       "45785               0.196429                             0.254743   \n",
       "45820               0.196429                             0.166421   \n",
       "\n",
       "              area_cluster size_cluster price_cluster  area_cluster_la_newer  \\\n",
       "21580  palmdale_landcaster            f             c                      0   \n",
       "32781             se_coast            d             a                      0   \n",
       "33161             la_older            b             d                      0   \n",
       "45785        santa_clarita            f             a                      0   \n",
       "45820             se_coast            f             d                      0   \n",
       "\n",
       "       area_cluster_la_older  area_cluster_northwest_costal  \\\n",
       "21580                      0                              0   \n",
       "32781                      0                              0   \n",
       "33161                      1                              0   \n",
       "45785                      0                              0   \n",
       "45820                      0                              0   \n",
       "\n",
       "       area_cluster_palmdale_landcaster  area_cluster_santa_clarita  \\\n",
       "21580                                 1                           0   \n",
       "32781                                 0                           0   \n",
       "33161                                 0                           0   \n",
       "45785                                 0                           1   \n",
       "45820                                 0                           0   \n",
       "\n",
       "       area_cluster_se_coast  size_cluster_a  size_cluster_b  size_cluster_c  \\\n",
       "21580                      0               0               0               0   \n",
       "32781                      1               0               0               0   \n",
       "33161                      0               0               1               0   \n",
       "45785                      0               0               0               0   \n",
       "45820                      1               0               0               0   \n",
       "\n",
       "       size_cluster_d  size_cluster_e  size_cluster_f  size_cluster_g  \\\n",
       "21580               0               0               1               0   \n",
       "32781               1               0               0               0   \n",
       "33161               0               0               0               0   \n",
       "45785               0               0               1               0   \n",
       "45820               0               0               1               0   \n",
       "\n",
       "       price_cluster_a  price_cluster_b  price_cluster_c  price_cluster_d  \\\n",
       "21580                0                0                1                0   \n",
       "32781                1                0                0                0   \n",
       "33161                0                0                0                1   \n",
       "45785                1                0                0                0   \n",
       "45820                0                0                0                1   \n",
       "\n",
       "       price_cluster_e  \n",
       "21580                0  \n",
       "32781                0  \n",
       "33161                0  \n",
       "45785                0  \n",
       "45820                0  "
      ]
     },
     "execution_count": 3,
     "metadata": {},
     "output_type": "execute_result"
    }
   ],
   "source": [
    "X_train.head()"
   ]
  },
  {
   "cell_type": "code",
   "execution_count": null,
   "metadata": {},
   "outputs": [],
   "source": [
    "dummy_df = pd.get_dummies(X_train[['area_cluster', 'size_cluster', 'price_cluster']], drop_first = False)\n",
    "X_train = pd.concat([X_train, dummy_df], axis = 1)"
   ]
  },
  {
   "cell_type": "code",
   "execution_count": null,
   "metadata": {},
   "outputs": [],
   "source": [
    "X_train.head()"
   ]
  },
  {
   "cell_type": "code",
   "execution_count": null,
   "metadata": {},
   "outputs": [],
   "source": [
    "X_train.shape"
   ]
  },
  {
   "cell_type": "markdown",
   "metadata": {},
   "source": [
    "We have clusters for area, size, and price.\n",
    "\n",
    "Next, collaboratively vizualize clusters and assign english language names"
   ]
  },
  {
   "cell_type": "markdown",
   "metadata": {},
   "source": [
    "## Naming Area Clusters"
   ]
  },
  {
   "cell_type": "code",
   "execution_count": null,
   "metadata": {},
   "outputs": [],
   "source": [
    "sns.relplot(data=X_train, x='longitude', y='latitude', hue='area_cluster')"
   ]
  },
  {
   "cell_type": "markdown",
   "metadata": {},
   "source": [
    "0:\n",
    "1: southeast_coast\n",
    "2: palmdale_lancaster\n",
    "3: la_older\n",
    "4: la_newer\n",
    "5: northwest_coastal\n"
   ]
  },
  {
   "cell_type": "code",
   "execution_count": null,
   "metadata": {},
   "outputs": [],
   "source": [
    "X_train.head()"
   ]
  },
  {
   "cell_type": "markdown",
   "metadata": {},
   "source": [
    " 5: northwest_coastal\n",
    "4:\n",
    "3:\n",
    "2: lancaster_palmdale\n",
    "1: southeast_coast\n",
    "0:"
   ]
  },
  {
   "cell_type": "code",
   "execution_count": null,
   "metadata": {},
   "outputs": [],
   "source": [
    "sns.relplot(data=X_train, x='longitude', y='latitude', hue='logerror_bins', col='area_cluster', col_wrap=2)"
   ]
  },
  {
   "cell_type": "code",
   "execution_count": null,
   "metadata": {},
   "outputs": [],
   "source": [
    "X_train.head()"
   ]
  },
  {
   "cell_type": "code",
   "execution_count": null,
   "metadata": {},
   "outputs": [],
   "source": [
    "X_train['area_cluster'] = X_train.area_cluster.map({\n",
    "    0: \"santa_clarita\",\n",
    "    1: \"se_coast\",\n",
    "    2: \"palmdale_landcaster\",\n",
    "    3: \"la_older\",\n",
    "    4: \"la_newer\",\n",
    "    5: \"northwest_costal\"\n",
    "})\n"
   ]
  },
  {
   "cell_type": "code",
   "execution_count": null,
   "metadata": {},
   "outputs": [],
   "source": [
    "X_train.head()"
   ]
  },
  {
   "cell_type": "code",
   "execution_count": null,
   "metadata": {},
   "outputs": [],
   "source": [
    "X_train.size_cluster.value_counts()"
   ]
  },
  {
   "cell_type": "code",
   "execution_count": null,
   "metadata": {},
   "outputs": [],
   "source": [
    "s0=X_train[X_train['size_cluster']==0]\n",
    "s1=X_train[X_train['size_cluster']==1]\n",
    "s2=X_train[X_train['size_cluster']==2]\n",
    "s3=X_train[X_train['size_cluster']==3]\n",
    "s4=X_train[X_train['size_cluster']==4]\n",
    "s5=X_train[X_train['size_cluster']==5]\n",
    "s6=X_train[X_train['size_cluster']==6]\n"
   ]
  },
  {
   "cell_type": "code",
   "execution_count": null,
   "metadata": {},
   "outputs": [],
   "source": [
    "p0=X_train[X_train['price_cluster']==0]\n",
    "p1=X_train[X_train['price_cluster']==1]\n",
    "p2=X_train[X_train['price_cluster']==2]\n",
    "p3=X_train[X_train['price_cluster']==3]\n",
    "p4=X_train[X_train['price_cluster']==4]\n",
    "p5=X_train[X_train['price_cluster']==5]\n",
    "\n",
    "\n",
    "\n",
    "\n",
    "\n",
    "\n"
   ]
  },
  {
   "cell_type": "code",
   "execution_count": null,
   "metadata": {},
   "outputs": [],
   "source": [
    "p0.taxvaluedollarcnt.describe()"
   ]
  },
  {
   "cell_type": "code",
   "execution_count": null,
   "metadata": {},
   "outputs": [],
   "source": [
    "p1.taxvaluedollarcnt.describe()"
   ]
  },
  {
   "cell_type": "code",
   "execution_count": null,
   "metadata": {},
   "outputs": [],
   "source": [
    "p2.taxvaluedollarcnt.describe()"
   ]
  },
  {
   "cell_type": "code",
   "execution_count": null,
   "metadata": {},
   "outputs": [],
   "source": [
    "p3.taxvaluedollarcnt.describe()"
   ]
  },
  {
   "cell_type": "code",
   "execution_count": null,
   "metadata": {},
   "outputs": [],
   "source": [
    "p4.taxvaluedollarcnt.describe()"
   ]
  },
  {
   "cell_type": "code",
   "execution_count": null,
   "metadata": {},
   "outputs": [],
   "source": [
    "p5.taxvaluedollarcnt.describe()"
   ]
  },
  {
   "cell_type": "code",
   "execution_count": null,
   "metadata": {},
   "outputs": [],
   "source": [
    "  X_train['price_cluster'] = X_train.price_cluster.map({\n",
    "            0: \"a\",\n",
    "            1: \"b\",\n",
    "            2: \"c\",\n",
    "            3: \"d\",\n",
    "            4: \"e\",\n",
    "        })"
   ]
  },
  {
   "cell_type": "code",
   "execution_count": null,
   "metadata": {},
   "outputs": [],
   "source": [
    "X_train.head()"
   ]
  },
  {
   "cell_type": "code",
   "execution_count": null,
   "metadata": {},
   "outputs": [],
   "source": [
    "train, X_train, y_train, X_validate, y_validate, X_test, y_test=wrangle3.wrangle()"
   ]
  },
  {
   "cell_type": "code",
   "execution_count": null,
   "metadata": {},
   "outputs": [],
   "source": [
    "X_train.head()"
   ]
  },
  {
   "cell_type": "code",
   "execution_count": null,
   "metadata": {},
   "outputs": [],
   "source": []
  },
  {
   "cell_type": "code",
   "execution_count": null,
   "metadata": {},
   "outputs": [],
   "source": [
    "s0.dtypes"
   ]
  },
  {
   "cell_type": "code",
   "execution_count": null,
   "metadata": {},
   "outputs": [],
   "source": [
    "pd.set_option('display.float_format', lambda x: '%.5f' % x)\n",
    "\n"
   ]
  },
  {
   "cell_type": "code",
   "execution_count": null,
   "metadata": {},
   "outputs": [],
   "source": [
    "s0[['scaled_bathroomcnt','sqft_bin', 'acres_bin', 'bath_bed_ratio']].describe()"
   ]
  },
  {
   "cell_type": "code",
   "execution_count": null,
   "metadata": {},
   "outputs": [],
   "source": [
    "s1[['scaled_bathroomcnt','sqft_bin', 'acres_bin', 'bath_bed_ratio']].describe()"
   ]
  },
  {
   "cell_type": "code",
   "execution_count": null,
   "metadata": {},
   "outputs": [],
   "source": [
    "s2[['scaled_bathroomcnt','sqft_bin', 'acres_bin', 'bath_bed_ratio']].describe()"
   ]
  },
  {
   "cell_type": "code",
   "execution_count": null,
   "metadata": {},
   "outputs": [],
   "source": [
    "s3[['scaled_bathroomcnt','sqft_bin', 'acres_bin', 'bath_bed_ratio']].describe()"
   ]
  },
  {
   "cell_type": "code",
   "execution_count": null,
   "metadata": {},
   "outputs": [],
   "source": []
  },
  {
   "cell_type": "code",
   "execution_count": null,
   "metadata": {},
   "outputs": [],
   "source": []
  },
  {
   "cell_type": "code",
   "execution_count": null,
   "metadata": {},
   "outputs": [],
   "source": []
  },
  {
   "cell_type": "code",
   "execution_count": null,
   "metadata": {},
   "outputs": [],
   "source": []
  },
  {
   "cell_type": "code",
   "execution_count": null,
   "metadata": {},
   "outputs": [],
   "source": []
  },
  {
   "cell_type": "code",
   "execution_count": null,
   "metadata": {},
   "outputs": [],
   "source": []
  },
  {
   "cell_type": "code",
   "execution_count": null,
   "metadata": {},
   "outputs": [],
   "source": [
    "s1[['calculatedfinishedsquarefeet', 'acres', 'bathroomcnt']].describe()"
   ]
  },
  {
   "cell_type": "code",
   "execution_count": null,
   "metadata": {},
   "outputs": [],
   "source": [
    "s2[['calculatedfinishedsquarefeet', 'acres', 'bathroomcnt']].describe()"
   ]
  },
  {
   "cell_type": "code",
   "execution_count": null,
   "metadata": {},
   "outputs": [],
   "source": [
    "s3[['calculatedfinishedsquarefeet', 'acres', 'bathroomcnt']].describe()"
   ]
  },
  {
   "cell_type": "code",
   "execution_count": null,
   "metadata": {},
   "outputs": [],
   "source": [
    "s4[['calculatedfinishedsquarefeet', 'acres', 'bathroomcnt']].describe()"
   ]
  },
  {
   "cell_type": "code",
   "execution_count": null,
   "metadata": {},
   "outputs": [],
   "source": [
    "s5[['calculatedfinishedsquarefeet', 'acres', 'bathroomcnt']].describe()"
   ]
  },
  {
   "cell_type": "code",
   "execution_count": null,
   "metadata": {},
   "outputs": [],
   "source": [
    "s6[['calculatedfinishedsquarefeet', 'acres', 'bathroomcnt']].describe()"
   ]
  },
  {
   "cell_type": "code",
   "execution_count": null,
   "metadata": {},
   "outputs": [],
   "source": [
    "s0.head()"
   ]
  },
  {
   "cell_type": "code",
   "execution_count": null,
   "metadata": {},
   "outputs": [],
   "source": [
    "X_train.county.value_counts()"
   ]
  },
  {
   "cell_type": "code",
   "execution_count": null,
   "metadata": {},
   "outputs": [],
   "source": [
    "X_train.isna().sum().sum()"
   ]
  },
  {
   "cell_type": "code",
   "execution_count": null,
   "metadata": {},
   "outputs": [],
   "source": [
    "df.fips.value_counts()"
   ]
  },
  {
   "cell_type": "code",
   "execution_count": null,
   "metadata": {},
   "outputs": [],
   "source": [
    "df = wrangle2.add_county(df)\n"
   ]
  },
  {
   "cell_type": "code",
   "execution_count": null,
   "metadata": {},
   "outputs": [],
   "source": [
    "df.fips.value_counts()"
   ]
  },
  {
   "cell_type": "code",
   "execution_count": null,
   "metadata": {},
   "outputs": [],
   "source": [
    "df.county.value_counts()"
   ]
  },
  {
   "cell_type": "code",
   "execution_count": null,
   "metadata": {},
   "outputs": [],
   "source": [
    "df = wrangle2.handle_missing_values(df)\n"
   ]
  },
  {
   "cell_type": "code",
   "execution_count": null,
   "metadata": {},
   "outputs": [],
   "source": [
    "df.county.value_counts()"
   ]
  },
  {
   "cell_type": "code",
   "execution_count": null,
   "metadata": {},
   "outputs": [],
   "source": [
    "df = wrangle2.clean(df)\n"
   ]
  },
  {
   "cell_type": "code",
   "execution_count": null,
   "metadata": {},
   "outputs": [],
   "source": [
    "df.county.value_counts()"
   ]
  },
  {
   "cell_type": "code",
   "execution_count": null,
   "metadata": {},
   "outputs": [],
   "source": []
  }
 ],
 "metadata": {
  "interpreter": {
   "hash": "38cca0c38332a56087b24af0bc80247f4fced29cb4f7f437d91dc159adec9c4e"
  },
  "kernelspec": {
   "display_name": "Python 3.8.12 64-bit ('base': conda)",
   "language": "python",
   "name": "python3"
  },
  "language_info": {
   "codemirror_mode": {
    "name": "ipython",
    "version": 3
   },
   "file_extension": ".py",
   "mimetype": "text/x-python",
   "name": "python",
   "nbconvert_exporter": "python",
   "pygments_lexer": "ipython3",
   "version": "3.8.12"
  },
  "orig_nbformat": 4
 },
 "nbformat": 4,
 "nbformat_minor": 2
}
